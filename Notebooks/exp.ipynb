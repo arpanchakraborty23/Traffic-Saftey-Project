{
 "cells": [
  {
   "cell_type": "code",
   "execution_count": 3,
   "metadata": {},
   "outputs": [
    {
     "name": "stdout",
     "output_type": "stream",
     "text": [
      "Collecting roboflow\n",
      "  Using cached roboflow-1.1.58-py3-none-any.whl.metadata (9.7 kB)\n",
      "Requirement already satisfied: certifi in e:\\cv\\cv\\lib\\site-packages (from roboflow) (2025.1.31)\n",
      "Collecting idna==3.7 (from roboflow)\n",
      "  Downloading idna-3.7-py3-none-any.whl.metadata (9.9 kB)\n",
      "Requirement already satisfied: cycler in e:\\cv\\cv\\lib\\site-packages (from roboflow) (0.12.1)\n",
      "Requirement already satisfied: kiwisolver>=1.3.1 in e:\\cv\\cv\\lib\\site-packages (from roboflow) (1.4.8)\n",
      "Requirement already satisfied: matplotlib in e:\\cv\\cv\\lib\\site-packages (from roboflow) (3.10.0)\n",
      "Requirement already satisfied: numpy>=1.18.5 in e:\\cv\\cv\\lib\\site-packages (from roboflow) (2.1.1)\n",
      "Collecting opencv-python-headless==4.10.0.84 (from roboflow)\n",
      "  Using cached opencv_python_headless-4.10.0.84-cp37-abi3-win_amd64.whl.metadata (20 kB)\n",
      "Requirement already satisfied: Pillow>=7.1.2 in e:\\cv\\cv\\lib\\site-packages (from roboflow) (11.0.0)\n",
      "Collecting pillow-heif>=0.18.0 (from roboflow)\n",
      "  Using cached pillow_heif-0.22.0-cp312-cp312-win_amd64.whl.metadata (9.8 kB)\n",
      "Requirement already satisfied: python-dateutil in e:\\cv\\cv\\lib\\site-packages (from roboflow) (2.9.0.post0)\n",
      "Requirement already satisfied: python-dotenv in e:\\cv\\cv\\lib\\site-packages (from roboflow) (1.0.1)\n",
      "Requirement already satisfied: requests in e:\\cv\\cv\\lib\\site-packages (from roboflow) (2.32.3)\n",
      "Requirement already satisfied: six in e:\\cv\\cv\\lib\\site-packages (from roboflow) (1.17.0)\n",
      "Requirement already satisfied: urllib3>=1.26.6 in e:\\cv\\cv\\lib\\site-packages (from roboflow) (2.3.0)\n",
      "Requirement already satisfied: tqdm>=4.41.0 in e:\\cv\\cv\\lib\\site-packages (from roboflow) (4.67.1)\n",
      "Requirement already satisfied: PyYAML>=5.3.1 in e:\\cv\\cv\\lib\\site-packages (from roboflow) (6.0.2)\n",
      "Collecting requests-toolbelt (from roboflow)\n",
      "  Using cached requests_toolbelt-1.0.0-py2.py3-none-any.whl.metadata (14 kB)\n",
      "Collecting filetype (from roboflow)\n",
      "  Using cached filetype-1.2.0-py2.py3-none-any.whl.metadata (6.5 kB)\n",
      "Requirement already satisfied: colorama in e:\\cv\\cv\\lib\\site-packages (from tqdm>=4.41.0->roboflow) (0.4.6)\n",
      "Requirement already satisfied: contourpy>=1.0.1 in e:\\cv\\cv\\lib\\site-packages (from matplotlib->roboflow) (1.3.1)\n",
      "Requirement already satisfied: fonttools>=4.22.0 in e:\\cv\\cv\\lib\\site-packages (from matplotlib->roboflow) (4.55.3)\n",
      "Requirement already satisfied: packaging>=20.0 in e:\\cv\\cv\\lib\\site-packages (from matplotlib->roboflow) (24.2)\n",
      "Requirement already satisfied: pyparsing>=2.3.1 in e:\\cv\\cv\\lib\\site-packages (from matplotlib->roboflow) (3.2.0)\n",
      "Requirement already satisfied: charset-normalizer<4,>=2 in e:\\cv\\cv\\lib\\site-packages (from requests->roboflow) (3.4.1)\n",
      "Using cached roboflow-1.1.58-py3-none-any.whl (84 kB)\n",
      "Downloading idna-3.7-py3-none-any.whl (66 kB)\n",
      "Using cached opencv_python_headless-4.10.0.84-cp37-abi3-win_amd64.whl (38.8 MB)\n",
      "Using cached pillow_heif-0.22.0-cp312-cp312-win_amd64.whl (8.6 MB)\n",
      "Using cached filetype-1.2.0-py2.py3-none-any.whl (19 kB)\n",
      "Using cached requests_toolbelt-1.0.0-py2.py3-none-any.whl (54 kB)\n",
      "Installing collected packages: filetype, pillow-heif, opencv-python-headless, idna, requests-toolbelt, roboflow\n",
      "  Attempting uninstall: idna\n",
      "    Found existing installation: idna 3.10\n",
      "    Uninstalling idna-3.10:\n",
      "      Successfully uninstalled idna-3.10\n",
      "Successfully installed filetype-1.2.0 idna-3.7 opencv-python-headless-4.10.0.84 pillow-heif-0.22.0 requests-toolbelt-1.0.0 roboflow-1.1.58\n"
     ]
    }
   ],
   "source": [
    "!pip install roboflow      "
   ]
  },
  {
   "cell_type": "code",
   "execution_count": 1,
   "metadata": {},
   "outputs": [
    {
     "name": "stdout",
     "output_type": "stream",
     "text": [
      "loading Roboflow workspace...\n",
      "loading Roboflow project...\n"
     ]
    },
    {
     "name": "stderr",
     "output_type": "stream",
     "text": [
      "Downloading Dataset Version Zip in helmate-1 to yolov12:: 100%|██████████| 9392/9392 [00:05<00:00, 1636.33it/s]"
     ]
    },
    {
     "name": "stdout",
     "output_type": "stream",
     "text": [
      "\n"
     ]
    },
    {
     "name": "stderr",
     "output_type": "stream",
     "text": [
      "\n",
      "Extracting Dataset Version Zip to helmate-1 in yolov12:: 100%|██████████| 292/292 [00:00<00:00, 731.39it/s]\n"
     ]
    }
   ],
   "source": [
    "from roboflow import Roboflow\n",
    "rf = Roboflow(api_key=\"pJk8hDkE5kmaizijgoCW\")\n",
    "project = rf.workspace(\"project-szzpt\").project(\"helmate-gxxio\")\n",
    "version = project.version(1)\n",
    "dataset = version.download(\"yolov12\")\n",
    "                "
   ]
  },
  {
   "cell_type": "code",
   "execution_count": 5,
   "metadata": {},
   "outputs": [],
   "source": [
    "import requests\n",
    "\n",
    "response = requests.get('https://universe.roboflow.com/ds/zEPfaXDzeb?key=LDZMbt7Cmb')"
   ]
  },
  {
   "cell_type": "code",
   "execution_count": 7,
   "metadata": {},
   "outputs": [
    {
     "data": {
      "text/plain": [
       "200"
      ]
     },
     "execution_count": 7,
     "metadata": {},
     "output_type": "execute_result"
    }
   ],
   "source": [
    "response.status_code"
   ]
  },
  {
   "cell_type": "code",
   "execution_count": null,
   "metadata": {},
   "outputs": [],
   "source": [
    "import os\n",
    "dir = 'text/data.zip'\n",
    "os.makedirs(os.path.dirname(dir),exist_ok=True)\n",
    "\n",
    "with open(dir,'wb') as file:\n",
    "   file.write(response.content)"
   ]
  },
  {
   "cell_type": "code",
   "execution_count": 13,
   "metadata": {},
   "outputs": [],
   "source": [
    "import zipfile\n",
    "unzip_data_path ='ubzip'\n",
    "with zipfile.ZipFile(dir, 'r') as zip_ref:\n",
    "   zip_ref.extractall(unzip_data_path)"
   ]
  },
  {
   "cell_type": "code",
   "execution_count": 36,
   "metadata": {},
   "outputs": [],
   "source": [
    "import yaml\n",
    "def read_yaml(path):\n",
    "        with open(path,'rb') as y:\n",
    "            content=yaml.safe_load(y)\n",
    "        return content"
   ]
  },
  {
   "cell_type": "code",
   "execution_count": 3,
   "metadata": {},
   "outputs": [],
   "source": [
    "path= r'D:\\CVProjects\\Traffic-Saftey-Project\\Notebooks\\helmate-1'\n",
    "\n",
    "import os\n",
    "dir_path=os.path.split(path)[-1]"
   ]
  },
  {
   "cell_type": "code",
   "execution_count": 4,
   "metadata": {},
   "outputs": [
    {
     "data": {
      "text/plain": [
       "'helmate-1'"
      ]
     },
     "execution_count": 4,
     "metadata": {},
     "output_type": "execute_result"
    }
   ],
   "source": [
    "dir_path"
   ]
  },
  {
   "cell_type": "code",
   "execution_count": null,
   "metadata": {},
   "outputs": [
    {
     "name": "stdout",
     "output_type": "stream",
     "text": [
      "Dataset path founded at helmate-1\n"
     ]
    }
   ],
   "source": [
    "if not os.path.exists(dir_path):\n",
    "   raise FileNotFoundError(f'{dir_path} not found')\n",
    "else:\n",
    "   print(f'Dataset path founded at {dir_path}')\n",
    "              "
   ]
  },
  {
   "cell_type": "code",
   "execution_count": 52,
   "metadata": {},
   "outputs": [
    {
     "ename": "FileNotFoundError",
     "evalue": "[Errno 2] No such file or directory: 'data.yaml'",
     "output_type": "error",
     "traceback": [
      "\u001b[1;31m---------------------------------------------------------------------------\u001b[0m",
      "\u001b[1;31mFileNotFoundError\u001b[0m                         Traceback (most recent call last)",
      "Cell \u001b[1;32mIn[52], line 8\u001b[0m\n\u001b[0;32m      6\u001b[0m \u001b[38;5;28;01mfor\u001b[39;00m files \u001b[38;5;129;01min\u001b[39;00m os\u001b[38;5;241m.\u001b[39mlistdir(dir_path):\n\u001b[0;32m      7\u001b[0m     \u001b[38;5;28;01mif\u001b[39;00m files\u001b[38;5;241m.\u001b[39mendswith(\u001b[38;5;124m'\u001b[39m\u001b[38;5;124m.yaml\u001b[39m\u001b[38;5;124m'\u001b[39m):\n\u001b[1;32m----> 8\u001b[0m             data\u001b[38;5;241m=\u001b[39m\u001b[43mread_yaml\u001b[49m\u001b[43m(\u001b[49m\u001b[43mfiles\u001b[49m\u001b[43m)\u001b[49m\n\u001b[0;32m      9\u001b[0m             \u001b[38;5;28mprint\u001b[39m(data)\n",
      "Cell \u001b[1;32mIn[52], line 3\u001b[0m, in \u001b[0;36mread_yaml\u001b[1;34m(path)\u001b[0m\n\u001b[0;32m      2\u001b[0m \u001b[38;5;28;01mdef\u001b[39;00m \u001b[38;5;21mread_yaml\u001b[39m(path):\n\u001b[1;32m----> 3\u001b[0m         \u001b[38;5;28;01mwith\u001b[39;00m \u001b[38;5;28;43mopen\u001b[39;49m\u001b[43m(\u001b[49m\u001b[43mpath\u001b[49m\u001b[43m,\u001b[49m\u001b[38;5;124;43m'\u001b[39;49m\u001b[38;5;124;43mrb\u001b[39;49m\u001b[38;5;124;43m'\u001b[39;49m\u001b[43m)\u001b[49m \u001b[38;5;28;01mas\u001b[39;00m y:\n\u001b[0;32m      4\u001b[0m             content\u001b[38;5;241m=\u001b[39myaml\u001b[38;5;241m.\u001b[39msafe_load(y)\n\u001b[0;32m      5\u001b[0m         \u001b[38;5;28;01mreturn\u001b[39;00m content\n",
      "File \u001b[1;32me:\\CV\\cv\\Lib\\site-packages\\IPython\\core\\interactiveshell.py:324\u001b[0m, in \u001b[0;36m_modified_open\u001b[1;34m(file, *args, **kwargs)\u001b[0m\n\u001b[0;32m    317\u001b[0m \u001b[38;5;28;01mif\u001b[39;00m file \u001b[38;5;129;01min\u001b[39;00m {\u001b[38;5;241m0\u001b[39m, \u001b[38;5;241m1\u001b[39m, \u001b[38;5;241m2\u001b[39m}:\n\u001b[0;32m    318\u001b[0m     \u001b[38;5;28;01mraise\u001b[39;00m \u001b[38;5;167;01mValueError\u001b[39;00m(\n\u001b[0;32m    319\u001b[0m         \u001b[38;5;124mf\u001b[39m\u001b[38;5;124m\"\u001b[39m\u001b[38;5;124mIPython won\u001b[39m\u001b[38;5;124m'\u001b[39m\u001b[38;5;124mt let you open fd=\u001b[39m\u001b[38;5;132;01m{\u001b[39;00mfile\u001b[38;5;132;01m}\u001b[39;00m\u001b[38;5;124m by default \u001b[39m\u001b[38;5;124m\"\u001b[39m\n\u001b[0;32m    320\u001b[0m         \u001b[38;5;124m\"\u001b[39m\u001b[38;5;124mas it is likely to crash IPython. If you know what you are doing, \u001b[39m\u001b[38;5;124m\"\u001b[39m\n\u001b[0;32m    321\u001b[0m         \u001b[38;5;124m\"\u001b[39m\u001b[38;5;124myou can use builtins\u001b[39m\u001b[38;5;124m'\u001b[39m\u001b[38;5;124m open.\u001b[39m\u001b[38;5;124m\"\u001b[39m\n\u001b[0;32m    322\u001b[0m     )\n\u001b[1;32m--> 324\u001b[0m \u001b[38;5;28;01mreturn\u001b[39;00m \u001b[43mio_open\u001b[49m\u001b[43m(\u001b[49m\u001b[43mfile\u001b[49m\u001b[43m,\u001b[49m\u001b[43m \u001b[49m\u001b[38;5;241;43m*\u001b[39;49m\u001b[43margs\u001b[49m\u001b[43m,\u001b[49m\u001b[43m \u001b[49m\u001b[38;5;241;43m*\u001b[39;49m\u001b[38;5;241;43m*\u001b[39;49m\u001b[43mkwargs\u001b[49m\u001b[43m)\u001b[49m\n",
      "\u001b[1;31mFileNotFoundError\u001b[0m: [Errno 2] No such file or directory: 'data.yaml'"
     ]
    }
   ],
   "source": [
    "import yaml\n",
    "def read_yaml(path):\n",
    "        with open(path,'rb') as y:\n",
    "            content=yaml.safe_load(y)\n",
    "        return content\n",
    "for files in os.listdir(dir_path):\n",
    "    if files.endswith('.yaml'):\n",
    "            data=read_yaml(files)\n",
    "            print(data)"
   ]
  },
  {
   "cell_type": "code",
   "execution_count": 59,
   "metadata": {},
   "outputs": [
    {
     "data": {
      "text/plain": [
       "'helmate-1'"
      ]
     },
     "execution_count": 59,
     "metadata": {},
     "output_type": "execute_result"
    }
   ],
   "source": [
    "dir_path"
   ]
  },
  {
   "cell_type": "code",
   "execution_count": 5,
   "metadata": {},
   "outputs": [
    {
     "name": "stdout",
     "output_type": "stream",
     "text": [
      "helmate-1\\data.yaml\n",
      "3\n",
      "Contents of data.yaml: {'train': '../train/images', 'val': '../valid/images', 'test': '../test/images', 'nc': 3, 'names': ['helmet', 'license_plate', 'motorcyclist'], 'roboflow': {'workspace': 'project-szzpt', 'project': 'helmate-gxxio', 'version': 1, 'license': 'CC BY 4.0', 'url': 'https://universe.roboflow.com/project-szzpt/helmate-gxxio/dataset/1'}}\n"
     ]
    }
   ],
   "source": [
    "import os\n",
    "import yaml\n",
    "\n",
    "def read_yaml(path):\n",
    "    with open(path, 'rb') as y:\n",
    "      \n",
    "            content = yaml.safe_load(y)\n",
    "            return content\n",
    "      \n",
    "\n",
    "# Loop through all YAML files in a directory\n",
    "directory = dir_path\n",
    "for file in os.listdir(dir_path):\n",
    "    if file.endswith('.yaml') or file.endswith('.yml'):\n",
    "        file_path = os.path.join(directory, file)\n",
    "        print(file_path)\n",
    "        data = read_yaml(file_path)\n",
    "        print(data['nc'])\n",
    "        if data is not None:\n",
    "            print(f\"Contents of {file}:\", data)\n"
   ]
  },
  {
   "cell_type": "code",
   "execution_count": 6,
   "metadata": {},
   "outputs": [
    {
     "data": {
      "text/plain": [
       "'../valid/images'"
      ]
     },
     "execution_count": 6,
     "metadata": {},
     "output_type": "execute_result"
    }
   ],
   "source": [
    "data['val']"
   ]
  },
  {
   "cell_type": "code",
   "execution_count": 17,
   "metadata": {},
   "outputs": [],
   "source": [
    "os.chdir('./src')"
   ]
  },
  {
   "cell_type": "code",
   "execution_count": 18,
   "metadata": {},
   "outputs": [
    {
     "data": {
      "text/plain": [
       "'d:\\\\CVProjects\\\\Traffic-Saftey-Project\\\\src'"
      ]
     },
     "execution_count": 18,
     "metadata": {},
     "output_type": "execute_result"
    }
   ],
   "source": [
    "pwd"
   ]
  },
  {
   "cell_type": "code",
   "execution_count": 19,
   "metadata": {},
   "outputs": [
    {
     "ename": "ModuleNotFoundError",
     "evalue": "No module named 'src.entity'",
     "output_type": "error",
     "traceback": [
      "\u001b[1;31m---------------------------------------------------------------------------\u001b[0m",
      "\u001b[1;31mModuleNotFoundError\u001b[0m                       Traceback (most recent call last)",
      "Cell \u001b[1;32mIn[19], line 2\u001b[0m\n\u001b[0;32m      1\u001b[0m \u001b[38;5;28;01mimport\u001b[39;00m \u001b[38;5;21;01mos\u001b[39;00m\n\u001b[1;32m----> 2\u001b[0m \u001b[38;5;28;01mfrom\u001b[39;00m \u001b[38;5;21;01msrc\u001b[39;00m\u001b[38;5;21;01m.\u001b[39;00m\u001b[38;5;21;01mentity\u001b[39;00m\u001b[38;5;21;01m.\u001b[39;00m\u001b[38;5;21;01martifacts_entity\u001b[39;00m \u001b[38;5;28;01mimport\u001b[39;00m DataIngestionArtifacts\n\u001b[0;32m      4\u001b[0m \u001b[38;5;66;03m# Initialize ingestion artifacts\u001b[39;00m\n\u001b[0;32m      5\u001b[0m ingestion_artifacts \u001b[38;5;241m=\u001b[39m DataIngestionArtifacts()\n",
      "\u001b[1;31mModuleNotFoundError\u001b[0m: No module named 'src.entity'"
     ]
    }
   ],
   "source": [
    "import os\n",
    "from src.entity.artifacts_entity import DataIngestionArtifacts\n",
    "\n",
    "# Initialize ingestion artifacts\n",
    "ingestion_artifacts = DataIngestionArtifacts()\n",
    "\n",
    "# Get dataset path\n",
    "dir_path = ingestion_artifacts.unzip_data_path\n",
    "if not os.path.exists(dir_path):\n",
    "    raise FileNotFoundError(f'{dir_path} not found')\n",
    "print(f'Dataset path found at {dir_path}')\n",
    "\n",
    "# Loop through all YAML files in the directory\n",
    "directory = ingestion_artifacts.unzip_data_path\n",
    "data_file_path = None\n",
    "\n",
    "# Check all files in directory\n",
    "for file in os.listdir(directory):\n",
    "    if file.endswith(('.yaml', '.yml')):\n",
    "        file_path = os.path.join(directory, file)\n",
    "        print(f\"Found YAML file: {file_path}\")\n",
    "        \n",
    "        # Read and display YAML content\n",
    "        data = read_yaml(file_path)\n",
    "        print(\"Number of classes (nc):\", data.get('nc', 'Key \"nc\" not found'))\n",
    "\n",
    "        # Keep track of the first valid YAML file\n",
    "        data_file_path = file_path\n",
    "\n",
    "# If no YAML file was found\n",
    "if not data_file_path:\n",
    "    raise FileNotFoundError(\"No data.yaml file found in the directory.\")\n"
   ]
  },
  {
   "cell_type": "code",
   "execution_count": null,
   "metadata": {},
   "outputs": [],
   "source": []
  }
 ],
 "metadata": {
  "kernelspec": {
   "display_name": "Python 3",
   "language": "python",
   "name": "python3"
  },
  "language_info": {
   "codemirror_mode": {
    "name": "ipython",
    "version": 3
   },
   "file_extension": ".py",
   "mimetype": "text/x-python",
   "name": "python",
   "nbconvert_exporter": "python",
   "pygments_lexer": "ipython3",
   "version": "3.12.0"
  }
 },
 "nbformat": 4,
 "nbformat_minor": 2
}
